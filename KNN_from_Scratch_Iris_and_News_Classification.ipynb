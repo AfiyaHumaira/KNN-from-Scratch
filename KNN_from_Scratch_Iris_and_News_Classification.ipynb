{
  "nbformat": 4,
  "nbformat_minor": 0,
  "metadata": {
    "colab": {
      "provenance": [],
      "authorship_tag": "ABX9TyP/VF31ubvc9eFNlZjjsRbl",
      "include_colab_link": true
    },
    "kernelspec": {
      "name": "python3",
      "display_name": "Python 3"
    },
    "language_info": {
      "name": "python"
    }
  },
  "cells": [
    {
      "cell_type": "markdown",
      "metadata": {
        "id": "view-in-github",
        "colab_type": "text"
      },
      "source": [
        "<a href=\"https://colab.research.google.com/github/AfiyaHumaira/KNN-from-Scratch/blob/main/KNN_from_Scratch_Iris_and_News_Classification.ipynb\" target=\"_parent\"><img src=\"https://colab.research.google.com/assets/colab-badge.svg\" alt=\"Open In Colab\"/></a>"
      ]
    },
    {
      "cell_type": "code",
      "execution_count": 1,
      "metadata": {
        "id": "3JfbsaaYEuTn"
      },
      "outputs": [],
      "source": [
        "# Load required libraries\n",
        "import pandas as pd\n",
        "from sklearn.datasets import load_iris\n",
        "from sklearn.model_selection import train_test_split\n",
        "from sklearn.feature_extraction.text import CountVectorizer\n",
        "from sklearn.neighbors import KNeighborsClassifier\n",
        "from sklearn.metrics import classification_report"
      ]
    },
    {
      "cell_type": "code",
      "source": [
        "# Euclidean distance calculation\n",
        "def euclidean_distance(a, b):\n",
        "    distance = 0\n",
        "    for i in range(len(a)):\n",
        "        distance += (a[i] - b[i]) ** 2\n",
        "    return distance ** 0.5"
      ],
      "metadata": {
        "id": "mJfuiuKBE7EE"
      },
      "execution_count": 2,
      "outputs": []
    },
    {
      "cell_type": "code",
      "source": [
        "# Custom KNN prediction\n",
        "def knn_predict(x_test, X_train, y_train, k):\n",
        "    distances = []\n",
        "    for i in range(len(X_train)):\n",
        "        dist = euclidean_distance(x_test, X_train[i])\n",
        "        distances.append((dist, y_train[i]))\n",
        "    distances.sort()\n",
        "    top_k = [label for dist, label in distances[:k]]\n",
        "    return max(set(top_k), key=top_k.count)\n"
      ],
      "metadata": {
        "id": "8Yu6N_HyE8SI"
      },
      "execution_count": 3,
      "outputs": []
    },
    {
      "cell_type": "code",
      "source": [
        "# Accuracy\n",
        "def accuracy(y_true, y_pred):\n",
        "    correct = 0\n",
        "    for i in range(len(y_true)):\n",
        "        if y_true[i] == y_pred[i]:\n",
        "            correct += 1\n",
        "    return correct / len(y_true)\n"
      ],
      "metadata": {
        "id": "lSsPSi0kE_8_"
      },
      "execution_count": 4,
      "outputs": []
    },
    {
      "cell_type": "code",
      "source": [
        "# Confusion Matrix\n",
        "def confusion_matrix(y_true, y_pred, num_classes):\n",
        "    matrix = [[0 for _ in range(num_classes)] for _ in range(num_classes)]\n",
        "    for i in range(len(y_true)):\n",
        "        matrix[y_true[i]][y_pred[i]] += 1\n",
        "    return matrix"
      ],
      "metadata": {
        "id": "NdppzUgFFF8F"
      },
      "execution_count": 5,
      "outputs": []
    },
    {
      "cell_type": "code",
      "source": [
        "# Precision, Recall, F1\n",
        "def metrics(cm):\n",
        "    precision = []\n",
        "    recall = []\n",
        "    f1 = []\n",
        "    for i in range(len(cm)):\n",
        "        tp = cm[i][i]\n",
        "        fp = sum(cm[j][i] for j in range(len(cm)) if j != i)\n",
        "        fn = sum(cm[i][j] for j in range(len(cm)) if j != i)\n",
        "        pre = tp / (tp + fp + 1e-9)\n",
        "        rec = tp / (tp + fn + 1e-9)\n",
        "        f1_score = 2 * pre * rec / (pre + rec + 1e-9)\n",
        "        precision.append(pre)\n",
        "        recall.append(rec)\n",
        "        f1.append(f1_score)\n",
        "    return precision, recall, f1"
      ],
      "metadata": {
        "id": "ocTTvuZVFG6m"
      },
      "execution_count": 6,
      "outputs": []
    },
    {
      "cell_type": "code",
      "source": [
        "# Run KNN from scratch\n",
        "def run_custom_knn(X, y, dataset_name, class_count):\n",
        "    best_k = 1\n",
        "    best_split = 0.3\n",
        "    best_accuracy = 0\n",
        "\n",
        "    print(f\"\\n--- {dataset_name} - Custom KNN ---\")\n",
        "    for split in [0.2, 0.3, 0.4, 0.5]:\n",
        "        for k in range(1, 11):\n",
        "            X_train, X_test, y_train, y_test = train_test_split(X, y, test_size=split, random_state=1)\n",
        "            y_pred = []\n",
        "            for x in X_test:\n",
        "                pred = knn_predict(x, X_train, y_train, k)\n",
        "                y_pred.append(pred)\n",
        "            acc = accuracy(y_test, y_pred)\n",
        "            if acc > best_accuracy:\n",
        "                best_accuracy = acc\n",
        "                best_k = k\n",
        "                best_split = split\n",
        "\n",
        "    print(f\"Best K = {best_k}, Best Split = {best_split}, Accuracy = {round(best_accuracy, 4)}\")\n",
        "\n",
        "    # Final evaluation\n",
        "    X_train, X_test, y_train, y_test = train_test_split(X, y, test_size=best_split, random_state=1)\n",
        "    final_preds = []\n",
        "    for x in X_test:\n",
        "        final_preds.append(knn_predict(x, X_train, y_train, best_k))\n",
        "\n",
        "    acc = accuracy(y_test, final_preds)\n",
        "    cm = confusion_matrix(y_test, final_preds, class_count)\n",
        "    prec, rec, f1 = metrics(cm)\n",
        "\n",
        "    print(\"Confusion Matrix:\")\n",
        "    for row in cm:\n",
        "        print(row)\n",
        "    for i in range(class_count):\n",
        "        print(f\"Class {i}: Precision={round(prec[i],4)}, Recall={round(rec[i],4)}, F1={round(f1[i],4)}\")\n",
        "\n",
        "    return best_k, best_split"
      ],
      "metadata": {
        "id": "-rwC8PhpFNn5"
      },
      "execution_count": 9,
      "outputs": []
    },
    {
      "cell_type": "code",
      "source": [
        "# Run Sklearn KNN\n",
        "def run_sklearn_knn(X, y, dataset_name, k, split):\n",
        "    print(f\"\\n--- {dataset_name} - Sklearn KNN ---\")\n",
        "    X_train, X_test, y_train, y_test = train_test_split(X, y, test_size=split, random_state=1)\n",
        "    model = KNeighborsClassifier(n_neighbors=k)\n",
        "    model.fit(X_train, y_train)\n",
        "    y_pred = model.predict(X_test)\n",
        "    print(classification_report(y_test, y_pred))\n"
      ],
      "metadata": {
        "id": "H2XDiD1XFkyj"
      },
      "execution_count": 10,
      "outputs": []
    },
    {
      "cell_type": "code",
      "source": [
        "# Dataset 1: Iris\n",
        "# ---------------------------\n",
        "iris = load_iris()\n",
        "iris_X = iris.data.tolist()\n",
        "iris_y = iris.target.tolist()\n",
        "\n",
        "k_iris, split_iris = run_custom_knn(iris_X, iris_y, \"Iris Dataset\", 3)\n",
        "run_sklearn_knn(iris_X, iris_y, \"Iris Dataset\", k_iris, split_iris)"
      ],
      "metadata": {
        "colab": {
          "base_uri": "https://localhost:8080/"
        },
        "id": "wMsiKrOaFoO0",
        "outputId": "6a5baf7c-c4bd-4c5f-e33a-3ad3f09e7f0c"
      },
      "execution_count": 11,
      "outputs": [
        {
          "output_type": "stream",
          "name": "stdout",
          "text": [
            "\n",
            "--- Iris Dataset - Custom KNN ---\n",
            "Best K = 1, Best Split = 0.2, Accuracy = 1.0\n",
            "Confusion Matrix:\n",
            "[11, 0, 0]\n",
            "[0, 13, 0]\n",
            "[0, 0, 6]\n",
            "Class 0: Precision=1.0, Recall=1.0, F1=1.0\n",
            "Class 1: Precision=1.0, Recall=1.0, F1=1.0\n",
            "Class 2: Precision=1.0, Recall=1.0, F1=1.0\n",
            "\n",
            "--- Iris Dataset - Sklearn KNN ---\n",
            "              precision    recall  f1-score   support\n",
            "\n",
            "           0       1.00      1.00      1.00        11\n",
            "           1       1.00      1.00      1.00        13\n",
            "           2       1.00      1.00      1.00         6\n",
            "\n",
            "    accuracy                           1.00        30\n",
            "   macro avg       1.00      1.00      1.00        30\n",
            "weighted avg       1.00      1.00      1.00        30\n",
            "\n"
          ]
        }
      ]
    },
    {
      "cell_type": "code",
      "source": [
        "# Dataset 2: News\n",
        "# ---------------------------\n",
        "news_df = pd.read_csv(\"/content/news_dataset_200.csv\")  # Make sure this CSV is in your working directory\n",
        "news_df[\"label\"] = news_df[\"label\"].map({\"sports\": 0, \"politics\": 1})\n",
        "\n",
        "vectorizer = CountVectorizer()\n",
        "news_X = vectorizer.fit_transform(news_df[\"message\"]).toarray()\n",
        "news_y = news_df[\"label\"].tolist()\n",
        "\n",
        "k_news, split_news = run_custom_knn(news_X, news_y, \"News Dataset\", 2)\n",
        "run_sklearn_knn(news_X, news_y, \"News Dataset\", k_news, split_news)"
      ],
      "metadata": {
        "colab": {
          "base_uri": "https://localhost:8080/"
        },
        "id": "-SifdSGlFtiL",
        "outputId": "fbf64c6c-a39c-4e81-e146-ccb6637f8c35"
      },
      "execution_count": 13,
      "outputs": [
        {
          "output_type": "stream",
          "name": "stdout",
          "text": [
            "\n",
            "--- News Dataset - Custom KNN ---\n",
            "Best K = 1, Best Split = 0.2, Accuracy = 1.0\n",
            "Confusion Matrix:\n",
            "[23, 0]\n",
            "[0, 17]\n",
            "Class 0: Precision=1.0, Recall=1.0, F1=1.0\n",
            "Class 1: Precision=1.0, Recall=1.0, F1=1.0\n",
            "\n",
            "--- News Dataset - Sklearn KNN ---\n",
            "              precision    recall  f1-score   support\n",
            "\n",
            "           0       1.00      1.00      1.00        23\n",
            "           1       1.00      1.00      1.00        17\n",
            "\n",
            "    accuracy                           1.00        40\n",
            "   macro avg       1.00      1.00      1.00        40\n",
            "weighted avg       1.00      1.00      1.00        40\n",
            "\n"
          ]
        }
      ]
    }
  ]
}